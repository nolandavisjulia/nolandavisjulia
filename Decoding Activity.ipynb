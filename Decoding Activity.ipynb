{
 "cells": [
  {
   "cell_type": "code",
   "execution_count": 24,
   "id": "fa15ff9e",
   "metadata": {},
   "outputs": [
    {
     "data": {
      "text/plain": [
       "3×3 Matrix{Int64}:\n",
       " 19   4  13\n",
       " 16   5   1\n",
       "  9  18  14"
      ]
     },
     "execution_count": 24,
     "metadata": {},
     "output_type": "execute_result"
    }
   ],
   "source": [
    "#Cipher Matrix\n",
    "A = [19 4 13\n",
    "16 5 1\n",
    "9 18 14]"
   ]
  },
  {
   "cell_type": "code",
   "execution_count": 25,
   "id": "d60621dd",
   "metadata": {},
   "outputs": [
    {
     "data": {
      "text/plain": [
       "3×3 Matrix{Int64}:\n",
       " 20  10  16\n",
       " 17  11   3\n",
       "  8  19  21"
      ]
     },
     "execution_count": 25,
     "metadata": {},
     "output_type": "execute_result"
    }
   ],
   "source": [
    "#Random Matrix \n",
    "B = [20 10 16\n",
    "17 11 3  \n",
    "8 19 21 ]"
   ]
  },
  {
   "cell_type": "code",
   "execution_count": 26,
   "id": "e7b3b8c1",
   "metadata": {},
   "outputs": [
    {
     "data": {
      "text/plain": [
       "3×3 Matrix{Int64}:\n",
       " 552  481  589\n",
       " 413  234  292\n",
       " 598  554  492"
      ]
     },
     "execution_count": 26,
     "metadata": {},
     "output_type": "execute_result"
    }
   ],
   "source": [
    "#Scrambled Matrix\n",
    "C = A*B"
   ]
  },
  {
   "cell_type": "code",
   "execution_count": 27,
   "id": "f8a875bc",
   "metadata": {},
   "outputs": [
    {
     "data": {
      "text/plain": [
       "3×3 Matrix{Float64}:\n",
       "  0.0158199   0.0541527  -0.018558\n",
       " -0.0654092   0.0453301   0.0574992\n",
       "  0.0739276  -0.093094    0.00943109"
      ]
     },
     "execution_count": 27,
     "metadata": {},
     "output_type": "execute_result"
    }
   ],
   "source": [
    "#Matrix Inverse\n",
    "Ainv = inv(A)"
   ]
  },
  {
   "cell_type": "code",
   "execution_count": 28,
   "id": "0aebd299",
   "metadata": {},
   "outputs": [
    {
     "data": {
      "text/plain": [
       "3×3 Matrix{Float64}:\n",
       " 20.0  10.0  16.0\n",
       " 17.0  11.0   3.0\n",
       "  8.0  19.0  21.0"
      ]
     },
     "execution_count": 28,
     "metadata": {},
     "output_type": "execute_result"
    }
   ],
   "source": [
    "Ainv*C"
   ]
  },
  {
   "cell_type": "code",
   "execution_count": null,
   "id": "06a9feb9",
   "metadata": {},
   "outputs": [],
   "source": [
    "1 = Z, 2 = Y,3= A,4 = B,4 = C,10 = D,11 = E,F = 12,6= G,5= T,7 = H,8 = I,16 = M,17 = P,\n",
    "18 = Q, 19 = R,20 = S,21 = N, 22 = 0,23 = X, 24 = W, 25 = V,26 = U,13 = J, 14 = K, 15 = L, 22 = O, W = 24"
   ]
  }
 ],
 "metadata": {
  "kernelspec": {
   "display_name": "Julia 1.7.3",
   "language": "julia",
   "name": "julia-1.7"
  },
  "language_info": {
   "file_extension": ".jl",
   "mimetype": "application/julia",
   "name": "julia",
   "version": "1.7.3"
  }
 },
 "nbformat": 4,
 "nbformat_minor": 5
}
