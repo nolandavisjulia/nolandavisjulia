{
 "cells": [
  {
   "cell_type": "code",
   "execution_count": 1,
   "id": "f3acfa48",
   "metadata": {},
   "outputs": [],
   "source": [
    "using LinearAlgebra"
   ]
  },
  {
   "cell_type": "code",
   "execution_count": 2,
   "id": "019dc941",
   "metadata": {},
   "outputs": [
    {
     "data": {
      "text/plain": [
       "2×2 Matrix{Int64}:\n",
       " 2  5\n",
       " 1  2"
      ]
     },
     "execution_count": 2,
     "metadata": {},
     "output_type": "execute_result"
    }
   ],
   "source": [
    "A = [2 5\n",
    "1 2]"
   ]
  },
  {
   "cell_type": "code",
   "execution_count": 3,
   "id": "d892a6cc",
   "metadata": {},
   "outputs": [
    {
     "data": {
      "text/plain": [
       "2-element Vector{Int64}:\n",
       " 21\n",
       "  8"
      ]
     },
     "execution_count": 3,
     "metadata": {},
     "output_type": "execute_result"
    }
   ],
   "source": [
    "B = [21\n",
    "8]"
   ]
  },
  {
   "cell_type": "code",
   "execution_count": 7,
   "id": "a3a48b27",
   "metadata": {},
   "outputs": [
    {
     "data": {
      "text/plain": [
       "LU{Float64, Matrix{Float64}}\n",
       "L factor:\n",
       "2×2 Matrix{Float64}:\n",
       " 1.0  0.0\n",
       " 0.5  1.0\n",
       "U factor:\n",
       "2×2 Matrix{Float64}:\n",
       " 2.0   5.0\n",
       " 0.0  -0.5"
      ]
     },
     "execution_count": 7,
     "metadata": {},
     "output_type": "execute_result"
    }
   ],
   "source": [
    "F = lu(A)"
   ]
  },
  {
   "cell_type": "code",
   "execution_count": 9,
   "id": "619896c2",
   "metadata": {},
   "outputs": [
    {
     "data": {
      "text/plain": [
       "2-element Vector{Float64}:\n",
       " -2.0\n",
       "  5.0"
      ]
     },
     "execution_count": 9,
     "metadata": {},
     "output_type": "execute_result"
    }
   ],
   "source": [
    "x = A\\B"
   ]
  },
  {
   "cell_type": "code",
   "execution_count": 10,
   "id": "dad6a9b0",
   "metadata": {},
   "outputs": [],
   "source": [
    "using Plots"
   ]
  },
  {
   "cell_type": "code",
   "execution_count": 11,
   "id": "7d95d4e0",
   "metadata": {},
   "outputs": [],
   "source": [
    "using Random"
   ]
  },
  {
   "cell_type": "code",
   "execution_count": 16,
   "id": "728079e9",
   "metadata": {},
   "outputs": [
    {
     "data": {
      "text/plain": [
       "10-element Vector{Float64}:\n",
       " 13.36114198087782\n",
       " 11.494885421916681\n",
       "  5.653777563905558\n",
       " -1.4290623097093365\n",
       " -6.439494705066647\n",
       " -7.033082619625306\n",
       " -2.932079671168485\n",
       "  3.9446092831499633\n",
       " 10.379305055719744\n",
       " 13.36114198087782"
      ]
     },
     "execution_count": 16,
     "metadata": {},
     "output_type": "execute_result"
    }
   ],
   "source": [
    "phi = pi/7\n",
    "a = 2 \n",
    "b = 11.5\n",
    "x_0 = 3\n",
    "y_0 = -1\n",
    "\n",
    "fx(t) = a*cos(phi)*cos(t) - b*sin(phi)*sin(t) + x_0\n",
    "fy(t) = a*sin(phi)*sin(t) + b*cos(phi)*cos(t) + x_0\n",
    "\n",
    "N = 10\n",
    "ts = LinRange(0, 2*pi, N)\n",
    "x = fx.(ts)\n",
    "y = fy.(ts)"
   ]
  },
  {
   "cell_type": "code",
   "execution_count": 17,
   "id": "aeee5069",
   "metadata": {},
   "outputs": [
    {
     "ename": "LoadError",
     "evalue": "UndefVarError: plot not defined",
     "output_type": "error",
     "traceback": [
      "UndefVarError: plot not defined",
      "",
      "Stacktrace:",
      " [1] top-level scope",
      "   @ In[17]:1",
      " [2] eval",
      "   @ ./boot.jl:373 [inlined]",
      " [3] include_string(mapexpr::typeof(REPL.softscope), mod::Module, code::String, filename::String)",
      "   @ Base ./loading.jl:1196"
     ]
    }
   ],
   "source": [
    "plot(x,y, seriestype =:scatter, label = \"Observations\", legend =:topleft)\n",
    "plot!(fx.(ts), fy.(ts), linewidth = 10, label = \"True Elipse\")"
   ]
  },
  {
   "cell_type": "code",
   "execution_count": 18,
   "id": "26ed4ded",
   "metadata": {},
   "outputs": [
    {
     "ename": "LoadError",
     "evalue": "UndefVarError: fY not defined",
     "output_type": "error",
     "traceback": [
      "UndefVarError: fY not defined",
      "",
      "Stacktrace:",
      " [1] top-level scope",
      "   @ In[18]:2",
      " [2] eval",
      "   @ ./boot.jl:373 [inlined]",
      " [3] include_string(mapexpr::typeof(REPL.softscope), mod::Module, code::String, filename::String)",
      "   @ Base ./loading.jl:1196"
     ]
    }
   ],
   "source": [
    "x = fx.(ts) + randn(N)*0.1\n",
    "Y = fY.(ts) + randn(N)*0.1"
   ]
  },
  {
   "cell_type": "code",
   "execution_count": null,
   "id": "49c1ad2a",
   "metadata": {},
   "outputs": [],
   "source": [
    "plot(x,y, seriestype =:scatter, label = \"Observations\", legend =:topleft)\n",
    "plot!(fx.(ts), fy.(ts), linewidth = 10, label = \"True Elipse\")"
   ]
  },
  {
   "cell_type": "code",
   "execution_count": null,
   "id": "2e6a6295",
   "metadata": {},
   "outputs": [],
   "source": [
    "A = [x.^2 y.^2 x.*y x y]\n",
    "b = ones(N)\n",
    "p = A\\b"
   ]
  },
  {
   "cell_type": "code",
   "execution_count": 10,
   "id": "498ba0fb",
   "metadata": {},
   "outputs": [
    {
     "ename": "LoadError",
     "evalue": "UndefVarError: x not defined",
     "output_type": "error",
     "traceback": [
      "UndefVarError: x not defined",
      "",
      "Stacktrace:",
      " [1] top-level scope",
      "   @ In[10]:1",
      " [2] eval",
      "   @ ./boot.jl:373 [inlined]",
      " [3] include_string(mapexpr::typeof(REPL.softscope), mod::Module, code::String, filename::String)",
      "   @ Base ./loading.jl:1196"
     ]
    }
   ],
   "source": [
    "X = LinRange(minimum(x), maximum(x), N)\n",
    "\n"
   ]
  },
  {
   "cell_type": "code",
   "execution_count": 11,
   "id": "e1c3713e",
   "metadata": {},
   "outputs": [
    {
     "ename": "LoadError",
     "evalue": "UndefVarError: x not defined",
     "output_type": "error",
     "traceback": [
      "UndefVarError: x not defined",
      "",
      "Stacktrace:",
      " [1] top-level scope",
      "   @ In[11]:1",
      " [2] eval",
      "   @ ./boot.jl:373 [inlined]",
      " [3] include_string(mapexpr::typeof(REPL.softscope), mod::Module, code::String, filename::String)",
      "   @ Base ./loading.jl:1196"
     ]
    }
   ],
   "source": [
    "Y = LinRange(minimum(x), maximum(x), N)"
   ]
  },
  {
   "cell_type": "code",
   "execution_count": 12,
   "id": "2fb56bf9",
   "metadata": {},
   "outputs": [
    {
     "ename": "LoadError",
     "evalue": "UndefVarError: N not defined",
     "output_type": "error",
     "traceback": [
      "UndefVarError: N not defined",
      "",
      "Stacktrace:",
      " [1] top-level scope",
      "   @ In[12]:2",
      " [2] eval",
      "   @ ./boot.jl:373 [inlined]",
      " [3] include_string(mapexpr::typeof(REPL.softscope), mod::Module, code::String, filename::String)",
      "   @ Base ./loading.jl:1196"
     ]
    }
   ],
   "source": [
    "\n",
    "F = Array{Float64}(undef,N,N)"
   ]
  },
  {
   "cell_type": "code",
   "execution_count": 14,
   "id": "20f7a3c5",
   "metadata": {},
   "outputs": [
    {
     "ename": "LoadError",
     "evalue": "UndefVarError: N not defined",
     "output_type": "error",
     "traceback": [
      "UndefVarError: N not defined",
      "",
      "Stacktrace:",
      " [1] top-level scope",
      "   @ ./In[14]:1",
      " [2] eval",
      "   @ ./boot.jl:373 [inlined]",
      " [3] include_string(mapexpr::typeof(REPL.softscope), mod::Module, code::String, filename::String)",
      "   @ Base ./loading.jl:1196"
     ]
    }
   ],
   "source": [
    "for i in 1:N\n",
    "    for j in 1:N\n",
    "        F[i,j] = p[1]*X[i]^2 + p[2]*Y[j]^2 + p[3]*X[i]*Y[j] + p[4]*X[i] + p[5]*Y[j]\n",
    "    end\n",
    "end\n"
   ]
  },
  {
   "cell_type": "code",
   "execution_count": null,
   "id": "49d6ebcc",
   "metadata": {},
   "outputs": [],
   "source": []
  }
 ],
 "metadata": {
  "kernelspec": {
   "display_name": "Julia 1.7.3",
   "language": "julia",
   "name": "julia-1.7"
  },
  "language_info": {
   "file_extension": ".jl",
   "mimetype": "application/julia",
   "name": "julia",
   "version": "1.7.3"
  }
 },
 "nbformat": 4,
 "nbformat_minor": 5
}
